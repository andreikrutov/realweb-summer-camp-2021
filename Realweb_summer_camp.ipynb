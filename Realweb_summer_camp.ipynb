{
 "cells": [
  {
   "cell_type": "markdown",
   "metadata": {},
   "source": [
    "# Тестовое задание для Realweb summer camp"
   ]
  },
  {
   "cell_type": "markdown",
   "metadata": {},
   "source": [
    "Необходимо проанализировать следующие данные https://drive.google.com/file/d/16llNk3bEYLaS4ReJ8PBrXQFEehqOPf44/view"
   ]
  },
  {
   "cell_type": "markdown",
   "metadata": {},
   "source": [
    "a.\tКакой рекламный канал принёс больше всего дохода за всё время?  \n",
    "b.\tКак изменился средний чек транзакции после введения коронавирусных ограничений? Как он изменился для пользователей, покупающих с промокодом и без? (параметр «promo_activated»)  \n",
    "c.\tМожно ли с уверенностью в 95% сказать, что CR (коэффициент конверсии в транзакцию) в выходные дни отличается от CR в будние дни?  \n",
    "d.\tВам необходимо спрогнозировать объем дохода, полученного с пользователей, приведенных на сайт контекстной рекламой (medium = cpc) на полгода вперед. \n",
    "Опишите, как бы вы подошли к этой задаче и какие дополнительные данные вам понадобятся?\n"
   ]
  },
  {
   "cell_type": "code",
   "execution_count": 76,
   "metadata": {},
   "outputs": [],
   "source": [
    "#загружаем библиотеки\n",
    "import pandas as pd\n",
    "import numpy as np\n",
    "import matplotlib.pyplot as plt\n",
    "import seaborn as sns\n",
    "\n",
    "from sklearn.linear_model import LinearRegression\n",
    "from sklearn.linear_model import Ridge\n",
    "from sklearn.linear_model import Lasso\n",
    "from sklearn.model_selection import GridSearchCV, train_test_split\n",
    "from sklearn.metrics import r2_score\n",
    "from sklearn.model_selection import cross_val_score\n",
    "from sklearn.preprocessing import StandardScaler\n",
    "\n",
    "from scipy.stats import f_oneway\n",
    "\n",
    "\n",
    "from datetime import datetime"
   ]
  },
  {
   "cell_type": "code",
   "execution_count": 166,
   "metadata": {},
   "outputs": [],
   "source": [
    "#загружаем данные\n",
    "path = 'd://realweb/s_c_data.csv'\n",
    "df = pd.read_csv(path, encoding='cp1251')# в файле проблемы с кодировкой кириллицы"
   ]
  },
  {
   "cell_type": "code",
   "execution_count": 3,
   "metadata": {},
   "outputs": [
    {
     "data": {
      "text/html": [
       "<div>\n",
       "<style scoped>\n",
       "    .dataframe tbody tr th:only-of-type {\n",
       "        vertical-align: middle;\n",
       "    }\n",
       "\n",
       "    .dataframe tbody tr th {\n",
       "        vertical-align: top;\n",
       "    }\n",
       "\n",
       "    .dataframe thead th {\n",
       "        text-align: right;\n",
       "    }\n",
       "</style>\n",
       "<table border=\"1\" class=\"dataframe\">\n",
       "  <thead>\n",
       "    <tr style=\"text-align: right;\">\n",
       "      <th></th>\n",
       "      <th>date</th>\n",
       "      <th>source</th>\n",
       "      <th>medium</th>\n",
       "      <th>delivery_available</th>\n",
       "      <th>device_type</th>\n",
       "      <th>promo_activated</th>\n",
       "      <th>filter_used</th>\n",
       "      <th>pageviews</th>\n",
       "      <th>visits</th>\n",
       "      <th>productClick</th>\n",
       "      <th>addToCart</th>\n",
       "      <th>checkout</th>\n",
       "      <th>transactions</th>\n",
       "      <th>revenue</th>\n",
       "    </tr>\n",
       "  </thead>\n",
       "  <tbody>\n",
       "    <tr>\n",
       "      <th>0</th>\n",
       "      <td>2020-05-11</td>\n",
       "      <td>google</td>\n",
       "      <td>organic</td>\n",
       "      <td>Не определено</td>\n",
       "      <td>Десктоп</td>\n",
       "      <td>no</td>\n",
       "      <td>no</td>\n",
       "      <td>3120</td>\n",
       "      <td>1233</td>\n",
       "      <td>5240</td>\n",
       "      <td>1048</td>\n",
       "      <td>525</td>\n",
       "      <td>90</td>\n",
       "      <td>86649.0</td>\n",
       "    </tr>\n",
       "    <tr>\n",
       "      <th>1</th>\n",
       "      <td>2020-05-11</td>\n",
       "      <td>yandex</td>\n",
       "      <td>cpc</td>\n",
       "      <td>Не определено</td>\n",
       "      <td>Мобайл</td>\n",
       "      <td>yes</td>\n",
       "      <td>no</td>\n",
       "      <td>3302</td>\n",
       "      <td>544</td>\n",
       "      <td>9930</td>\n",
       "      <td>1984</td>\n",
       "      <td>1416</td>\n",
       "      <td>217</td>\n",
       "      <td>244478.0</td>\n",
       "    </tr>\n",
       "    <tr>\n",
       "      <th>2</th>\n",
       "      <td>2020-05-11</td>\n",
       "      <td>google</td>\n",
       "      <td>cpc</td>\n",
       "      <td>Не определено</td>\n",
       "      <td>Мобайл</td>\n",
       "      <td>no</td>\n",
       "      <td>no</td>\n",
       "      <td>2970</td>\n",
       "      <td>1450</td>\n",
       "      <td>5460</td>\n",
       "      <td>1090</td>\n",
       "      <td>599</td>\n",
       "      <td>100</td>\n",
       "      <td>105150.0</td>\n",
       "    </tr>\n",
       "    <tr>\n",
       "      <th>3</th>\n",
       "      <td>2020-05-11</td>\n",
       "      <td>google</td>\n",
       "      <td>cpc</td>\n",
       "      <td>Не определено</td>\n",
       "      <td>Десктоп</td>\n",
       "      <td>no</td>\n",
       "      <td>no</td>\n",
       "      <td>1875</td>\n",
       "      <td>854</td>\n",
       "      <td>4250</td>\n",
       "      <td>848</td>\n",
       "      <td>407</td>\n",
       "      <td>71</td>\n",
       "      <td>79003.0</td>\n",
       "    </tr>\n",
       "    <tr>\n",
       "      <th>4</th>\n",
       "      <td>2020-05-11</td>\n",
       "      <td>yandex</td>\n",
       "      <td>organic</td>\n",
       "      <td>Не определено</td>\n",
       "      <td>Десктоп</td>\n",
       "      <td>no</td>\n",
       "      <td>no</td>\n",
       "      <td>2159</td>\n",
       "      <td>1000</td>\n",
       "      <td>4110</td>\n",
       "      <td>824</td>\n",
       "      <td>351</td>\n",
       "      <td>62</td>\n",
       "      <td>61861.0</td>\n",
       "    </tr>\n",
       "  </tbody>\n",
       "</table>\n",
       "</div>"
      ],
      "text/plain": [
       "         date  source   medium delivery_available device_type promo_activated  \\\n",
       "0  2020-05-11  google  organic      Не определено     Десктоп              no   \n",
       "1  2020-05-11  yandex      cpc      Не определено      Мобайл             yes   \n",
       "2  2020-05-11  google      cpc      Не определено      Мобайл              no   \n",
       "3  2020-05-11  google      cpc      Не определено     Десктоп              no   \n",
       "4  2020-05-11  yandex  organic      Не определено     Десктоп              no   \n",
       "\n",
       "  filter_used  pageviews  visits  productClick  addToCart  checkout  \\\n",
       "0          no       3120    1233          5240       1048       525   \n",
       "1          no       3302     544          9930       1984      1416   \n",
       "2          no       2970    1450          5460       1090       599   \n",
       "3          no       1875     854          4250        848       407   \n",
       "4          no       2159    1000          4110        824       351   \n",
       "\n",
       "   transactions   revenue  \n",
       "0            90   86649.0  \n",
       "1           217  244478.0  \n",
       "2           100  105150.0  \n",
       "3            71   79003.0  \n",
       "4            62   61861.0  "
      ]
     },
     "execution_count": 3,
     "metadata": {},
     "output_type": "execute_result"
    }
   ],
   "source": [
    "df.head()"
   ]
  },
  {
   "cell_type": "code",
   "execution_count": 4,
   "metadata": {},
   "outputs": [
    {
     "name": "stdout",
     "output_type": "stream",
     "text": [
      "<class 'pandas.core.frame.DataFrame'>\n",
      "RangeIndex: 52724 entries, 0 to 52723\n",
      "Data columns (total 14 columns):\n",
      " #   Column              Non-Null Count  Dtype  \n",
      "---  ------              --------------  -----  \n",
      " 0   date                52724 non-null  object \n",
      " 1   source              52724 non-null  object \n",
      " 2   medium              52724 non-null  object \n",
      " 3   delivery_available  52724 non-null  object \n",
      " 4   device_type         52724 non-null  object \n",
      " 5   promo_activated     52724 non-null  object \n",
      " 6   filter_used         52724 non-null  object \n",
      " 7   pageviews           52724 non-null  int64  \n",
      " 8   visits              52724 non-null  int64  \n",
      " 9   productClick        52724 non-null  int64  \n",
      " 10  addToCart           52724 non-null  int64  \n",
      " 11  checkout            52724 non-null  int64  \n",
      " 12  transactions        52724 non-null  int64  \n",
      " 13  revenue             52724 non-null  float64\n",
      "dtypes: float64(1), int64(6), object(7)\n",
      "memory usage: 5.6+ MB\n"
     ]
    }
   ],
   "source": [
    "df.info()"
   ]
  },
  {
   "cell_type": "markdown",
   "metadata": {},
   "source": [
    "Нет пропущенных значений"
   ]
  },
  {
   "cell_type": "code",
   "execution_count": 5,
   "metadata": {},
   "outputs": [
    {
     "data": {
      "text/html": [
       "<div>\n",
       "<style scoped>\n",
       "    .dataframe tbody tr th:only-of-type {\n",
       "        vertical-align: middle;\n",
       "    }\n",
       "\n",
       "    .dataframe tbody tr th {\n",
       "        vertical-align: top;\n",
       "    }\n",
       "\n",
       "    .dataframe thead th {\n",
       "        text-align: right;\n",
       "    }\n",
       "</style>\n",
       "<table border=\"1\" class=\"dataframe\">\n",
       "  <thead>\n",
       "    <tr style=\"text-align: right;\">\n",
       "      <th></th>\n",
       "      <th>pageviews</th>\n",
       "      <th>visits</th>\n",
       "      <th>productClick</th>\n",
       "      <th>addToCart</th>\n",
       "      <th>checkout</th>\n",
       "      <th>transactions</th>\n",
       "      <th>revenue</th>\n",
       "    </tr>\n",
       "  </thead>\n",
       "  <tbody>\n",
       "    <tr>\n",
       "      <th>count</th>\n",
       "      <td>52724.000000</td>\n",
       "      <td>52724.000000</td>\n",
       "      <td>52724.000000</td>\n",
       "      <td>52724.00000</td>\n",
       "      <td>52724.000000</td>\n",
       "      <td>52724.000000</td>\n",
       "      <td>5.272400e+04</td>\n",
       "    </tr>\n",
       "    <tr>\n",
       "      <th>mean</th>\n",
       "      <td>445.797853</td>\n",
       "      <td>127.219312</td>\n",
       "      <td>891.086981</td>\n",
       "      <td>178.04074</td>\n",
       "      <td>146.593620</td>\n",
       "      <td>20.092823</td>\n",
       "      <td>2.419841e+04</td>\n",
       "    </tr>\n",
       "    <tr>\n",
       "      <th>std</th>\n",
       "      <td>1108.633081</td>\n",
       "      <td>385.094298</td>\n",
       "      <td>2101.027285</td>\n",
       "      <td>419.99282</td>\n",
       "      <td>344.664158</td>\n",
       "      <td>52.436046</td>\n",
       "      <td>6.382118e+04</td>\n",
       "    </tr>\n",
       "    <tr>\n",
       "      <th>min</th>\n",
       "      <td>0.000000</td>\n",
       "      <td>1.000000</td>\n",
       "      <td>0.000000</td>\n",
       "      <td>0.00000</td>\n",
       "      <td>0.000000</td>\n",
       "      <td>0.000000</td>\n",
       "      <td>0.000000e+00</td>\n",
       "    </tr>\n",
       "    <tr>\n",
       "      <th>25%</th>\n",
       "      <td>12.000000</td>\n",
       "      <td>2.000000</td>\n",
       "      <td>20.000000</td>\n",
       "      <td>4.00000</td>\n",
       "      <td>3.000000</td>\n",
       "      <td>0.000000</td>\n",
       "      <td>0.000000e+00</td>\n",
       "    </tr>\n",
       "    <tr>\n",
       "      <th>50%</th>\n",
       "      <td>47.000000</td>\n",
       "      <td>7.000000</td>\n",
       "      <td>90.000000</td>\n",
       "      <td>18.00000</td>\n",
       "      <td>15.000000</td>\n",
       "      <td>2.000000</td>\n",
       "      <td>2.445500e+03</td>\n",
       "    </tr>\n",
       "    <tr>\n",
       "      <th>75%</th>\n",
       "      <td>256.000000</td>\n",
       "      <td>41.000000</td>\n",
       "      <td>520.000000</td>\n",
       "      <td>104.00000</td>\n",
       "      <td>83.000000</td>\n",
       "      <td>11.000000</td>\n",
       "      <td>1.329775e+04</td>\n",
       "    </tr>\n",
       "    <tr>\n",
       "      <th>max</th>\n",
       "      <td>26589.000000</td>\n",
       "      <td>6975.000000</td>\n",
       "      <td>32460.000000</td>\n",
       "      <td>6486.00000</td>\n",
       "      <td>3857.000000</td>\n",
       "      <td>1113.000000</td>\n",
       "      <td>1.397420e+06</td>\n",
       "    </tr>\n",
       "  </tbody>\n",
       "</table>\n",
       "</div>"
      ],
      "text/plain": [
       "          pageviews        visits  productClick    addToCart      checkout  \\\n",
       "count  52724.000000  52724.000000  52724.000000  52724.00000  52724.000000   \n",
       "mean     445.797853    127.219312    891.086981    178.04074    146.593620   \n",
       "std     1108.633081    385.094298   2101.027285    419.99282    344.664158   \n",
       "min        0.000000      1.000000      0.000000      0.00000      0.000000   \n",
       "25%       12.000000      2.000000     20.000000      4.00000      3.000000   \n",
       "50%       47.000000      7.000000     90.000000     18.00000     15.000000   \n",
       "75%      256.000000     41.000000    520.000000    104.00000     83.000000   \n",
       "max    26589.000000   6975.000000  32460.000000   6486.00000   3857.000000   \n",
       "\n",
       "       transactions       revenue  \n",
       "count  52724.000000  5.272400e+04  \n",
       "mean      20.092823  2.419841e+04  \n",
       "std       52.436046  6.382118e+04  \n",
       "min        0.000000  0.000000e+00  \n",
       "25%        0.000000  0.000000e+00  \n",
       "50%        2.000000  2.445500e+03  \n",
       "75%       11.000000  1.329775e+04  \n",
       "max     1113.000000  1.397420e+06  "
      ]
     },
     "execution_count": 5,
     "metadata": {},
     "output_type": "execute_result"
    }
   ],
   "source": [
    "df.describe()"
   ]
  },
  {
   "cell_type": "code",
   "execution_count": 6,
   "metadata": {},
   "outputs": [
    {
     "data": {
      "text/plain": [
       "(52724, 14)"
      ]
     },
     "execution_count": 6,
     "metadata": {},
     "output_type": "execute_result"
    }
   ],
   "source": [
    "df.shape"
   ]
  },
  {
   "cell_type": "markdown",
   "metadata": {},
   "source": [
    "### Какой рекламный канал принёс больше всего дохода за всё время?"
   ]
  },
  {
   "cell_type": "code",
   "execution_count": 35,
   "metadata": {},
   "outputs": [
    {
     "data": {
      "text/html": [
       "<div>\n",
       "<style scoped>\n",
       "    .dataframe tbody tr th:only-of-type {\n",
       "        vertical-align: middle;\n",
       "    }\n",
       "\n",
       "    .dataframe tbody tr th {\n",
       "        vertical-align: top;\n",
       "    }\n",
       "\n",
       "    .dataframe thead th {\n",
       "        text-align: right;\n",
       "    }\n",
       "</style>\n",
       "<table border=\"1\" class=\"dataframe\">\n",
       "  <thead>\n",
       "    <tr style=\"text-align: right;\">\n",
       "      <th></th>\n",
       "      <th>source</th>\n",
       "      <th>revenue</th>\n",
       "    </tr>\n",
       "  </thead>\n",
       "  <tbody>\n",
       "    <tr>\n",
       "      <th>21</th>\n",
       "      <td>yandex</td>\n",
       "      <td>4.674748e+08</td>\n",
       "    </tr>\n",
       "    <tr>\n",
       "      <th>12</th>\n",
       "      <td>google</td>\n",
       "      <td>4.565170e+08</td>\n",
       "    </tr>\n",
       "    <tr>\n",
       "      <th>0</th>\n",
       "      <td>(direct)</td>\n",
       "      <td>2.384474e+08</td>\n",
       "    </tr>\n",
       "  </tbody>\n",
       "</table>\n",
       "</div>"
      ],
      "text/plain": [
       "      source       revenue\n",
       "21    yandex  4.674748e+08\n",
       "12    google  4.565170e+08\n",
       "0   (direct)  2.384474e+08"
      ]
     },
     "execution_count": 35,
     "metadata": {},
     "output_type": "execute_result"
    }
   ],
   "source": [
    "channel = df.groupby(['source'], as_index = False).sum()[['source', 'revenue']]# группируем по каналу и выводим суммарный доход\n",
    "sorted_channel = channel.sort_values(by = ['revenue'], ascending=False)\n",
    "sorted_channel[:3]"
   ]
  },
  {
   "cell_type": "markdown",
   "metadata": {},
   "source": [
    "Наибольший доход принесла реклама в Яндексе"
   ]
  },
  {
   "cell_type": "markdown",
   "metadata": {},
   "source": [
    "### Как изменился средний чек транзакции после введения коронавирусных ограничений? Как он изменился для пользователей, покупающих с промокодом и без? (параметр «promo_activated»)"
   ]
  },
  {
   "cell_type": "markdown",
   "metadata": {},
   "source": [
    "30 марта 2020 года были введены коронавирусные ограничения"
   ]
  },
  {
   "cell_type": "code",
   "execution_count": 43,
   "metadata": {},
   "outputs": [
    {
     "data": {
      "text/plain": [
       "(16183, 14)"
      ]
     },
     "execution_count": 43,
     "metadata": {},
     "output_type": "execute_result"
    }
   ],
   "source": [
    "df_before_lockdown = df[df['date']<='2020-03-30']#данные до ограничений\n",
    "df_before_lockdown.shape"
   ]
  },
  {
   "cell_type": "code",
   "execution_count": 44,
   "metadata": {},
   "outputs": [
    {
     "data": {
      "text/plain": [
       "(36541, 14)"
      ]
     },
     "execution_count": 44,
     "metadata": {},
     "output_type": "execute_result"
    }
   ],
   "source": [
    "df_after_lockdown = df[df['date']>'2020-03-30']\n",
    "df_after_lockdown.shape"
   ]
  },
  {
   "cell_type": "code",
   "execution_count": 45,
   "metadata": {},
   "outputs": [
    {
     "data": {
      "text/plain": [
       "True"
      ]
     },
     "execution_count": 45,
     "metadata": {},
     "output_type": "execute_result"
    }
   ],
   "source": [
    "df.shape[0] == df_before_lockdown.shape[0] + df_after_lockdown.shape[0]# проверим не потерялись ли данные"
   ]
  },
  {
   "cell_type": "markdown",
   "metadata": {},
   "source": [
    "Данные не потерялись"
   ]
  },
  {
   "cell_type": "code",
   "execution_count": 46,
   "metadata": {},
   "outputs": [
    {
     "data": {
      "text/plain": [
       "116.10307112401904"
      ]
     },
     "execution_count": 46,
     "metadata": {},
     "output_type": "execute_result"
    }
   ],
   "source": [
    "#среднинй чек до введения\n",
    "df_before_lockdown['checkout'].mean()"
   ]
  },
  {
   "cell_type": "code",
   "execution_count": 48,
   "metadata": {},
   "outputs": [
    {
     "data": {
      "text/plain": [
       "160.09704167920967"
      ]
     },
     "execution_count": 48,
     "metadata": {},
     "output_type": "execute_result"
    }
   ],
   "source": [
    "#средний чек после введения\n",
    "df_after_lockdown['checkout'].mean()"
   ]
  },
  {
   "cell_type": "markdown",
   "metadata": {},
   "source": [
    "Средний чек вырос"
   ]
  },
  {
   "cell_type": "code",
   "execution_count": 49,
   "metadata": {},
   "outputs": [
    {
     "data": {
      "text/plain": [
       "89.62156278643447"
      ]
     },
     "execution_count": 49,
     "metadata": {},
     "output_type": "execute_result"
    }
   ],
   "source": [
    "#без промокода до введения\n",
    "df_before_lockdown[df_before_lockdown['promo_activated'] == 'no']['checkout'].mean()"
   ]
  },
  {
   "cell_type": "code",
   "execution_count": 51,
   "metadata": {},
   "outputs": [
    {
     "data": {
      "text/plain": [
       "116.32619667428146"
      ]
     },
     "execution_count": 51,
     "metadata": {},
     "output_type": "execute_result"
    }
   ],
   "source": [
    "#без промокода после введения\n",
    "df_after_lockdown[df_after_lockdown['promo_activated'] == 'no']['checkout'].mean()"
   ]
  },
  {
   "cell_type": "markdown",
   "metadata": {},
   "source": [
    "Средний чек вырос"
   ]
  },
  {
   "cell_type": "code",
   "execution_count": 50,
   "metadata": {},
   "outputs": [
    {
     "data": {
      "text/plain": [
       "147.1065057008719"
      ]
     },
     "execution_count": 50,
     "metadata": {},
     "output_type": "execute_result"
    }
   ],
   "source": [
    "#c промокодом до введения\n",
    "df_before_lockdown[df_before_lockdown['promo_activated'] == 'yes']['checkout'].mean()"
   ]
  },
  {
   "cell_type": "code",
   "execution_count": 52,
   "metadata": {},
   "outputs": [
    {
     "data": {
      "text/plain": [
       "206.59769725702677"
      ]
     },
     "execution_count": 52,
     "metadata": {},
     "output_type": "execute_result"
    }
   ],
   "source": [
    "#с промокодом после введения\n",
    "df_after_lockdown[df_after_lockdown['promo_activated'] == 'yes']['checkout'].mean()"
   ]
  },
  {
   "cell_type": "markdown",
   "metadata": {},
   "source": [
    "Средний чек вырос"
   ]
  },
  {
   "cell_type": "markdown",
   "metadata": {},
   "source": [
    "### Можно ли с уверенностью в 95% сказать, что CR (коэффициент конверсии в транзакцию) в выходные дни отличается от CR в будние дни?"
   ]
  },
  {
   "cell_type": "code",
   "execution_count": 167,
   "metadata": {},
   "outputs": [],
   "source": [
    "# добавим рипзнак выходного дня\n",
    "df['bus_day'] = df['date'].apply(np.datetime64)\n",
    "df['bus_day'] = df['date'].apply(np.is_busday)"
   ]
  },
  {
   "cell_type": "code",
   "execution_count": 16,
   "metadata": {},
   "outputs": [],
   "source": [
    "#добавим конверсию\n",
    "df['conv'] = round(df['transactions']/df['visits'],4)"
   ]
  },
  {
   "cell_type": "code",
   "execution_count": 17,
   "metadata": {},
   "outputs": [
    {
     "data": {
      "text/html": [
       "<div>\n",
       "<style scoped>\n",
       "    .dataframe tbody tr th:only-of-type {\n",
       "        vertical-align: middle;\n",
       "    }\n",
       "\n",
       "    .dataframe tbody tr th {\n",
       "        vertical-align: top;\n",
       "    }\n",
       "\n",
       "    .dataframe thead th {\n",
       "        text-align: right;\n",
       "    }\n",
       "</style>\n",
       "<table border=\"1\" class=\"dataframe\">\n",
       "  <thead>\n",
       "    <tr style=\"text-align: right;\">\n",
       "      <th></th>\n",
       "      <th>date</th>\n",
       "      <th>source</th>\n",
       "      <th>medium</th>\n",
       "      <th>delivery_available</th>\n",
       "      <th>device_type</th>\n",
       "      <th>promo_activated</th>\n",
       "      <th>filter_used</th>\n",
       "      <th>pageviews</th>\n",
       "      <th>visits</th>\n",
       "      <th>productClick</th>\n",
       "      <th>addToCart</th>\n",
       "      <th>checkout</th>\n",
       "      <th>transactions</th>\n",
       "      <th>revenue</th>\n",
       "      <th>bus_day</th>\n",
       "      <th>conv</th>\n",
       "    </tr>\n",
       "  </thead>\n",
       "  <tbody>\n",
       "    <tr>\n",
       "      <th>0</th>\n",
       "      <td>2020-05-11</td>\n",
       "      <td>google</td>\n",
       "      <td>organic</td>\n",
       "      <td>Не определено</td>\n",
       "      <td>Десктоп</td>\n",
       "      <td>no</td>\n",
       "      <td>no</td>\n",
       "      <td>3120</td>\n",
       "      <td>1233</td>\n",
       "      <td>5240</td>\n",
       "      <td>1048</td>\n",
       "      <td>525</td>\n",
       "      <td>90</td>\n",
       "      <td>86649.0</td>\n",
       "      <td>True</td>\n",
       "      <td>0.0730</td>\n",
       "    </tr>\n",
       "    <tr>\n",
       "      <th>1</th>\n",
       "      <td>2020-05-11</td>\n",
       "      <td>yandex</td>\n",
       "      <td>cpc</td>\n",
       "      <td>Не определено</td>\n",
       "      <td>Мобайл</td>\n",
       "      <td>yes</td>\n",
       "      <td>no</td>\n",
       "      <td>3302</td>\n",
       "      <td>544</td>\n",
       "      <td>9930</td>\n",
       "      <td>1984</td>\n",
       "      <td>1416</td>\n",
       "      <td>217</td>\n",
       "      <td>244478.0</td>\n",
       "      <td>True</td>\n",
       "      <td>0.3989</td>\n",
       "    </tr>\n",
       "    <tr>\n",
       "      <th>2</th>\n",
       "      <td>2020-05-11</td>\n",
       "      <td>google</td>\n",
       "      <td>cpc</td>\n",
       "      <td>Не определено</td>\n",
       "      <td>Мобайл</td>\n",
       "      <td>no</td>\n",
       "      <td>no</td>\n",
       "      <td>2970</td>\n",
       "      <td>1450</td>\n",
       "      <td>5460</td>\n",
       "      <td>1090</td>\n",
       "      <td>599</td>\n",
       "      <td>100</td>\n",
       "      <td>105150.0</td>\n",
       "      <td>True</td>\n",
       "      <td>0.0690</td>\n",
       "    </tr>\n",
       "  </tbody>\n",
       "</table>\n",
       "</div>"
      ],
      "text/plain": [
       "         date  source   medium delivery_available device_type promo_activated  \\\n",
       "0  2020-05-11  google  organic      Не определено     Десктоп              no   \n",
       "1  2020-05-11  yandex      cpc      Не определено      Мобайл             yes   \n",
       "2  2020-05-11  google      cpc      Не определено      Мобайл              no   \n",
       "\n",
       "  filter_used  pageviews  visits  productClick  addToCart  checkout  \\\n",
       "0          no       3120    1233          5240       1048       525   \n",
       "1          no       3302     544          9930       1984      1416   \n",
       "2          no       2970    1450          5460       1090       599   \n",
       "\n",
       "   transactions   revenue  bus_day    conv  \n",
       "0            90   86649.0     True  0.0730  \n",
       "1           217  244478.0     True  0.3989  \n",
       "2           100  105150.0     True  0.0690  "
      ]
     },
     "execution_count": 17,
     "metadata": {},
     "output_type": "execute_result"
    }
   ],
   "source": [
    "df.head(3)"
   ]
  },
  {
   "cell_type": "code",
   "execution_count": 18,
   "metadata": {},
   "outputs": [],
   "source": [
    "# выделим выходные\n",
    "df_weekend = df[df['bus_day'] == False]\n",
    "#выделим будни\n",
    "df_busdays = df[df['bus_day'] == True]"
   ]
  },
  {
   "cell_type": "code",
   "execution_count": 19,
   "metadata": {},
   "outputs": [
    {
     "data": {
      "text/plain": [
       "True"
      ]
     },
     "execution_count": 19,
     "metadata": {},
     "output_type": "execute_result"
    }
   ],
   "source": [
    "df.shape[0] == df_weekend.shape[0] + df_busdays.shape[0]"
   ]
  },
  {
   "cell_type": "code",
   "execution_count": 21,
   "metadata": {},
   "outputs": [
    {
     "data": {
      "text/plain": [
       "F_onewayResult(statistic=41.80561164114753, pvalue=1.0169205948811639e-10)"
      ]
     },
     "execution_count": 21,
     "metadata": {},
     "output_type": "execute_result"
    }
   ],
   "source": [
    "#оценим отличие между конверсией по выходным и конверсией по будням\n",
    "f_oneway(df_weekend['conv'], df_busdays['conv'])"
   ]
  },
  {
   "cell_type": "markdown",
   "metadata": {},
   "source": [
    "p-уровень значимости равен 10^(-10), очень маленькое значение, значит мы можем считать, что уровень конверсии в будние дни и в выходные отличается"
   ]
  },
  {
   "cell_type": "markdown",
   "metadata": {},
   "source": [
    "### Вам необходимо спрогнозировать объем дохода, полученного с пользователей, приведенных на сайт контекстной рекламой (medium = cpc) на полгода вперед. Опишите, как бы вы подошли к этой задаче и какие дополнительные данные вам понадобятся?"
   ]
  },
  {
   "cell_type": "markdown",
   "metadata": {},
   "source": [
    "Введем доп признак - количество дней от начальной даты и построим уравнение регрессии. Потом посчитаем прогноз на каждый день (в ближайшие полгода) и просуммируем полученные величины. В таком подходе также необходимо спрогнозировать (или получить каким-либо другим способом) и значения других переменных на рассматриваемый период."
   ]
  },
  {
   "cell_type": "code",
   "execution_count": 26,
   "metadata": {},
   "outputs": [],
   "source": [
    "#выбросим столбцы с конверсией и датой\n",
    "df = df.drop(['conv'],axis = 1)"
   ]
  },
  {
   "cell_type": "code",
   "execution_count": 168,
   "metadata": {},
   "outputs": [],
   "source": [
    "#выделим пользователей с medium = cpc\n",
    "df = df[df['medium'] == 'cpc']"
   ]
  },
  {
   "cell_type": "code",
   "execution_count": 169,
   "metadata": {},
   "outputs": [
    {
     "data": {
      "text/plain": [
       "(16835, 15)"
      ]
     },
     "execution_count": 169,
     "metadata": {},
     "output_type": "execute_result"
    }
   ],
   "source": [
    "df.shape"
   ]
  },
  {
   "cell_type": "code",
   "execution_count": 170,
   "metadata": {},
   "outputs": [
    {
     "data": {
      "text/html": [
       "<div>\n",
       "<style scoped>\n",
       "    .dataframe tbody tr th:only-of-type {\n",
       "        vertical-align: middle;\n",
       "    }\n",
       "\n",
       "    .dataframe tbody tr th {\n",
       "        vertical-align: top;\n",
       "    }\n",
       "\n",
       "    .dataframe thead th {\n",
       "        text-align: right;\n",
       "    }\n",
       "</style>\n",
       "<table border=\"1\" class=\"dataframe\">\n",
       "  <thead>\n",
       "    <tr style=\"text-align: right;\">\n",
       "      <th></th>\n",
       "      <th>date</th>\n",
       "      <th>source</th>\n",
       "      <th>delivery_available</th>\n",
       "      <th>device_type</th>\n",
       "      <th>promo_activated</th>\n",
       "      <th>filter_used</th>\n",
       "      <th>pageviews</th>\n",
       "      <th>visits</th>\n",
       "      <th>productClick</th>\n",
       "      <th>addToCart</th>\n",
       "      <th>checkout</th>\n",
       "      <th>transactions</th>\n",
       "      <th>revenue</th>\n",
       "      <th>bus_day</th>\n",
       "    </tr>\n",
       "  </thead>\n",
       "  <tbody>\n",
       "    <tr>\n",
       "      <th>1</th>\n",
       "      <td>2020-05-11</td>\n",
       "      <td>yandex</td>\n",
       "      <td>Не определено</td>\n",
       "      <td>Мобайл</td>\n",
       "      <td>1</td>\n",
       "      <td>0</td>\n",
       "      <td>3302</td>\n",
       "      <td>544</td>\n",
       "      <td>9930</td>\n",
       "      <td>1984</td>\n",
       "      <td>1416</td>\n",
       "      <td>217</td>\n",
       "      <td>244478.0</td>\n",
       "      <td>True</td>\n",
       "    </tr>\n",
       "    <tr>\n",
       "      <th>2</th>\n",
       "      <td>2020-05-11</td>\n",
       "      <td>google</td>\n",
       "      <td>Не определено</td>\n",
       "      <td>Мобайл</td>\n",
       "      <td>0</td>\n",
       "      <td>0</td>\n",
       "      <td>2970</td>\n",
       "      <td>1450</td>\n",
       "      <td>5460</td>\n",
       "      <td>1090</td>\n",
       "      <td>599</td>\n",
       "      <td>100</td>\n",
       "      <td>105150.0</td>\n",
       "      <td>True</td>\n",
       "    </tr>\n",
       "    <tr>\n",
       "      <th>3</th>\n",
       "      <td>2020-05-11</td>\n",
       "      <td>google</td>\n",
       "      <td>Не определено</td>\n",
       "      <td>Десктоп</td>\n",
       "      <td>0</td>\n",
       "      <td>0</td>\n",
       "      <td>1875</td>\n",
       "      <td>854</td>\n",
       "      <td>4250</td>\n",
       "      <td>848</td>\n",
       "      <td>407</td>\n",
       "      <td>71</td>\n",
       "      <td>79003.0</td>\n",
       "      <td>True</td>\n",
       "    </tr>\n",
       "  </tbody>\n",
       "</table>\n",
       "</div>"
      ],
      "text/plain": [
       "         date  source delivery_available device_type  promo_activated  \\\n",
       "1  2020-05-11  yandex      Не определено      Мобайл                1   \n",
       "2  2020-05-11  google      Не определено      Мобайл                0   \n",
       "3  2020-05-11  google      Не определено     Десктоп                0   \n",
       "\n",
       "   filter_used  pageviews  visits  productClick  addToCart  checkout  \\\n",
       "1            0       3302     544          9930       1984      1416   \n",
       "2            0       2970    1450          5460       1090       599   \n",
       "3            0       1875     854          4250        848       407   \n",
       "\n",
       "   transactions   revenue  bus_day  \n",
       "1           217  244478.0     True  \n",
       "2           100  105150.0     True  \n",
       "3            71   79003.0     True  "
      ]
     },
     "execution_count": 170,
     "metadata": {},
     "output_type": "execute_result"
    }
   ],
   "source": [
    "#заменим все yes\\no на 1\\0\n",
    "df['promo_activated'].replace(['no', 'yes'], [0, 1], inplace=True)\n",
    "df['filter_used'].replace(['no', 'yes'], [0, 1], inplace=True)\n",
    "df = df.drop(['medium'],axis=1)# значение для всех записей одинаковое, выбросим его\n",
    "df.head(3)"
   ]
  },
  {
   "cell_type": "code",
   "execution_count": 124,
   "metadata": {},
   "outputs": [],
   "source": [
    "#функция возвращает месяц из даты\n",
    "def get_delta(date):\n",
    "    start = '2020-01-01'#начальная дата\n",
    "    datee = np.datetime64(date)-np.datetime64(start)\n",
    "    days = datee.astype('timedelta64[D]')\n",
    "        \n",
    "    return days / np.timedelta64(1, 'D')"
   ]
  },
  {
   "cell_type": "code",
   "execution_count": 171,
   "metadata": {},
   "outputs": [
    {
     "data": {
      "text/html": [
       "<div>\n",
       "<style scoped>\n",
       "    .dataframe tbody tr th:only-of-type {\n",
       "        vertical-align: middle;\n",
       "    }\n",
       "\n",
       "    .dataframe tbody tr th {\n",
       "        vertical-align: top;\n",
       "    }\n",
       "\n",
       "    .dataframe thead th {\n",
       "        text-align: right;\n",
       "    }\n",
       "</style>\n",
       "<table border=\"1\" class=\"dataframe\">\n",
       "  <thead>\n",
       "    <tr style=\"text-align: right;\">\n",
       "      <th></th>\n",
       "      <th>date</th>\n",
       "      <th>source</th>\n",
       "      <th>delivery_available</th>\n",
       "      <th>device_type</th>\n",
       "      <th>promo_activated</th>\n",
       "      <th>filter_used</th>\n",
       "      <th>pageviews</th>\n",
       "      <th>visits</th>\n",
       "      <th>productClick</th>\n",
       "      <th>addToCart</th>\n",
       "      <th>checkout</th>\n",
       "      <th>transactions</th>\n",
       "      <th>revenue</th>\n",
       "      <th>bus_day</th>\n",
       "      <th>days</th>\n",
       "    </tr>\n",
       "  </thead>\n",
       "  <tbody>\n",
       "    <tr>\n",
       "      <th>1</th>\n",
       "      <td>2020-05-11</td>\n",
       "      <td>yandex</td>\n",
       "      <td>Не определено</td>\n",
       "      <td>Мобайл</td>\n",
       "      <td>1</td>\n",
       "      <td>0</td>\n",
       "      <td>3302</td>\n",
       "      <td>544</td>\n",
       "      <td>9930</td>\n",
       "      <td>1984</td>\n",
       "      <td>1416</td>\n",
       "      <td>217</td>\n",
       "      <td>244478.0</td>\n",
       "      <td>True</td>\n",
       "      <td>131.0</td>\n",
       "    </tr>\n",
       "    <tr>\n",
       "      <th>2</th>\n",
       "      <td>2020-05-11</td>\n",
       "      <td>google</td>\n",
       "      <td>Не определено</td>\n",
       "      <td>Мобайл</td>\n",
       "      <td>0</td>\n",
       "      <td>0</td>\n",
       "      <td>2970</td>\n",
       "      <td>1450</td>\n",
       "      <td>5460</td>\n",
       "      <td>1090</td>\n",
       "      <td>599</td>\n",
       "      <td>100</td>\n",
       "      <td>105150.0</td>\n",
       "      <td>True</td>\n",
       "      <td>131.0</td>\n",
       "    </tr>\n",
       "  </tbody>\n",
       "</table>\n",
       "</div>"
      ],
      "text/plain": [
       "         date  source delivery_available device_type  promo_activated  \\\n",
       "1  2020-05-11  yandex      Не определено      Мобайл                1   \n",
       "2  2020-05-11  google      Не определено      Мобайл                0   \n",
       "\n",
       "   filter_used  pageviews  visits  productClick  addToCart  checkout  \\\n",
       "1            0       3302     544          9930       1984      1416   \n",
       "2            0       2970    1450          5460       1090       599   \n",
       "\n",
       "   transactions   revenue  bus_day   days  \n",
       "1           217  244478.0     True  131.0  \n",
       "2           100  105150.0     True  131.0  "
      ]
     },
     "execution_count": 171,
     "metadata": {},
     "output_type": "execute_result"
    }
   ],
   "source": [
    "df['days'] = df['date'].apply(get_delta)#добавили столбец с месяцем\n",
    "df.head(2)"
   ]
  },
  {
   "cell_type": "code",
   "execution_count": 172,
   "metadata": {},
   "outputs": [],
   "source": [
    "#столбец date будет коррелировать с day, уберем его\n",
    "df = df.drop(['date'],axis=1)"
   ]
  },
  {
   "cell_type": "code",
   "execution_count": 173,
   "metadata": {},
   "outputs": [],
   "source": [
    "cat_col = df.select_dtypes(include=['object']).columns\n",
    "cols = list(cat_col)# выделяем категориальные признаки"
   ]
  },
  {
   "cell_type": "code",
   "execution_count": 174,
   "metadata": {},
   "outputs": [],
   "source": [
    "cols_int = list(df.drop(columns = cols).columns)#убираем категориальные признаки"
   ]
  },
  {
   "cell_type": "code",
   "execution_count": 175,
   "metadata": {},
   "outputs": [],
   "source": [
    "#Отделим целевую переменную\n",
    "target = df['revenue']\n",
    "data = df.drop(['revenue'],axis=1)"
   ]
  },
  {
   "cell_type": "code",
   "execution_count": 176,
   "metadata": {},
   "outputs": [
    {
     "data": {
      "text/html": [
       "<div>\n",
       "<style scoped>\n",
       "    .dataframe tbody tr th:only-of-type {\n",
       "        vertical-align: middle;\n",
       "    }\n",
       "\n",
       "    .dataframe tbody tr th {\n",
       "        vertical-align: top;\n",
       "    }\n",
       "\n",
       "    .dataframe thead th {\n",
       "        text-align: right;\n",
       "    }\n",
       "</style>\n",
       "<table border=\"1\" class=\"dataframe\">\n",
       "  <thead>\n",
       "    <tr style=\"text-align: right;\">\n",
       "      <th></th>\n",
       "      <th>promo_activated</th>\n",
       "      <th>filter_used</th>\n",
       "      <th>pageviews</th>\n",
       "      <th>visits</th>\n",
       "      <th>productClick</th>\n",
       "      <th>addToCart</th>\n",
       "      <th>checkout</th>\n",
       "      <th>transactions</th>\n",
       "      <th>bus_day</th>\n",
       "      <th>days</th>\n",
       "    </tr>\n",
       "  </thead>\n",
       "  <tbody>\n",
       "    <tr>\n",
       "      <th>promo_activated</th>\n",
       "      <td>1.000000</td>\n",
       "      <td>0.008291</td>\n",
       "      <td>0.064339</td>\n",
       "      <td>-0.109955</td>\n",
       "      <td>0.138916</td>\n",
       "      <td>0.139022</td>\n",
       "      <td>0.172609</td>\n",
       "      <td>0.132774</td>\n",
       "      <td>-0.005632</td>\n",
       "      <td>0.027482</td>\n",
       "    </tr>\n",
       "    <tr>\n",
       "      <th>filter_used</th>\n",
       "      <td>0.008291</td>\n",
       "      <td>1.000000</td>\n",
       "      <td>-0.255963</td>\n",
       "      <td>-0.226926</td>\n",
       "      <td>-0.267147</td>\n",
       "      <td>-0.267102</td>\n",
       "      <td>-0.270250</td>\n",
       "      <td>-0.278234</td>\n",
       "      <td>-0.005195</td>\n",
       "      <td>-0.016014</td>\n",
       "    </tr>\n",
       "    <tr>\n",
       "      <th>pageviews</th>\n",
       "      <td>0.064339</td>\n",
       "      <td>-0.255963</td>\n",
       "      <td>1.000000</td>\n",
       "      <td>0.810638</td>\n",
       "      <td>0.865324</td>\n",
       "      <td>0.865284</td>\n",
       "      <td>0.822870</td>\n",
       "      <td>0.809484</td>\n",
       "      <td>-0.041936</td>\n",
       "      <td>0.033192</td>\n",
       "    </tr>\n",
       "    <tr>\n",
       "      <th>visits</th>\n",
       "      <td>-0.109955</td>\n",
       "      <td>-0.226926</td>\n",
       "      <td>0.810638</td>\n",
       "      <td>1.000000</td>\n",
       "      <td>0.704965</td>\n",
       "      <td>0.704869</td>\n",
       "      <td>0.582812</td>\n",
       "      <td>0.615521</td>\n",
       "      <td>-0.023136</td>\n",
       "      <td>-0.035624</td>\n",
       "    </tr>\n",
       "    <tr>\n",
       "      <th>productClick</th>\n",
       "      <td>0.138916</td>\n",
       "      <td>-0.267147</td>\n",
       "      <td>0.865324</td>\n",
       "      <td>0.704965</td>\n",
       "      <td>1.000000</td>\n",
       "      <td>0.999998</td>\n",
       "      <td>0.879474</td>\n",
       "      <td>0.961908</td>\n",
       "      <td>-0.033724</td>\n",
       "      <td>-0.051729</td>\n",
       "    </tr>\n",
       "    <tr>\n",
       "      <th>addToCart</th>\n",
       "      <td>0.139022</td>\n",
       "      <td>-0.267102</td>\n",
       "      <td>0.865284</td>\n",
       "      <td>0.704869</td>\n",
       "      <td>0.999998</td>\n",
       "      <td>1.000000</td>\n",
       "      <td>0.879532</td>\n",
       "      <td>0.961966</td>\n",
       "      <td>-0.033712</td>\n",
       "      <td>-0.051860</td>\n",
       "    </tr>\n",
       "    <tr>\n",
       "      <th>checkout</th>\n",
       "      <td>0.172609</td>\n",
       "      <td>-0.270250</td>\n",
       "      <td>0.822870</td>\n",
       "      <td>0.582812</td>\n",
       "      <td>0.879474</td>\n",
       "      <td>0.879532</td>\n",
       "      <td>1.000000</td>\n",
       "      <td>0.886788</td>\n",
       "      <td>-0.053511</td>\n",
       "      <td>0.054273</td>\n",
       "    </tr>\n",
       "    <tr>\n",
       "      <th>transactions</th>\n",
       "      <td>0.132774</td>\n",
       "      <td>-0.278234</td>\n",
       "      <td>0.809484</td>\n",
       "      <td>0.615521</td>\n",
       "      <td>0.961908</td>\n",
       "      <td>0.961966</td>\n",
       "      <td>0.886788</td>\n",
       "      <td>1.000000</td>\n",
       "      <td>-0.060944</td>\n",
       "      <td>-0.085240</td>\n",
       "    </tr>\n",
       "    <tr>\n",
       "      <th>bus_day</th>\n",
       "      <td>-0.005632</td>\n",
       "      <td>-0.005195</td>\n",
       "      <td>-0.041936</td>\n",
       "      <td>-0.023136</td>\n",
       "      <td>-0.033724</td>\n",
       "      <td>-0.033712</td>\n",
       "      <td>-0.053511</td>\n",
       "      <td>-0.060944</td>\n",
       "      <td>1.000000</td>\n",
       "      <td>0.007128</td>\n",
       "    </tr>\n",
       "    <tr>\n",
       "      <th>days</th>\n",
       "      <td>0.027482</td>\n",
       "      <td>-0.016014</td>\n",
       "      <td>0.033192</td>\n",
       "      <td>-0.035624</td>\n",
       "      <td>-0.051729</td>\n",
       "      <td>-0.051860</td>\n",
       "      <td>0.054273</td>\n",
       "      <td>-0.085240</td>\n",
       "      <td>0.007128</td>\n",
       "      <td>1.000000</td>\n",
       "    </tr>\n",
       "  </tbody>\n",
       "</table>\n",
       "</div>"
      ],
      "text/plain": [
       "                 promo_activated  filter_used  pageviews    visits  \\\n",
       "promo_activated         1.000000     0.008291   0.064339 -0.109955   \n",
       "filter_used             0.008291     1.000000  -0.255963 -0.226926   \n",
       "pageviews               0.064339    -0.255963   1.000000  0.810638   \n",
       "visits                 -0.109955    -0.226926   0.810638  1.000000   \n",
       "productClick            0.138916    -0.267147   0.865324  0.704965   \n",
       "addToCart               0.139022    -0.267102   0.865284  0.704869   \n",
       "checkout                0.172609    -0.270250   0.822870  0.582812   \n",
       "transactions            0.132774    -0.278234   0.809484  0.615521   \n",
       "bus_day                -0.005632    -0.005195  -0.041936 -0.023136   \n",
       "days                    0.027482    -0.016014   0.033192 -0.035624   \n",
       "\n",
       "                 productClick  addToCart  checkout  transactions   bus_day  \\\n",
       "promo_activated      0.138916   0.139022  0.172609      0.132774 -0.005632   \n",
       "filter_used         -0.267147  -0.267102 -0.270250     -0.278234 -0.005195   \n",
       "pageviews            0.865324   0.865284  0.822870      0.809484 -0.041936   \n",
       "visits               0.704965   0.704869  0.582812      0.615521 -0.023136   \n",
       "productClick         1.000000   0.999998  0.879474      0.961908 -0.033724   \n",
       "addToCart            0.999998   1.000000  0.879532      0.961966 -0.033712   \n",
       "checkout             0.879474   0.879532  1.000000      0.886788 -0.053511   \n",
       "transactions         0.961908   0.961966  0.886788      1.000000 -0.060944   \n",
       "bus_day             -0.033724  -0.033712 -0.053511     -0.060944  1.000000   \n",
       "days                -0.051729  -0.051860  0.054273     -0.085240  0.007128   \n",
       "\n",
       "                     days  \n",
       "promo_activated  0.027482  \n",
       "filter_used     -0.016014  \n",
       "pageviews        0.033192  \n",
       "visits          -0.035624  \n",
       "productClick    -0.051729  \n",
       "addToCart       -0.051860  \n",
       "checkout         0.054273  \n",
       "transactions    -0.085240  \n",
       "bus_day          0.007128  \n",
       "days             1.000000  "
      ]
     },
     "execution_count": 176,
     "metadata": {},
     "output_type": "execute_result"
    }
   ],
   "source": [
    "data.corr()"
   ]
  },
  {
   "cell_type": "markdown",
   "metadata": {},
   "source": [
    "Сильная корреляция между productClick, addToCart, pageviews, checkout, transactions\n"
   ]
  },
  {
   "cell_type": "code",
   "execution_count": 177,
   "metadata": {},
   "outputs": [
    {
     "data": {
      "text/html": [
       "<div>\n",
       "<style scoped>\n",
       "    .dataframe tbody tr th:only-of-type {\n",
       "        vertical-align: middle;\n",
       "    }\n",
       "\n",
       "    .dataframe tbody tr th {\n",
       "        vertical-align: top;\n",
       "    }\n",
       "\n",
       "    .dataframe thead th {\n",
       "        text-align: right;\n",
       "    }\n",
       "</style>\n",
       "<table border=\"1\" class=\"dataframe\">\n",
       "  <thead>\n",
       "    <tr style=\"text-align: right;\">\n",
       "      <th></th>\n",
       "      <th>promo_activated</th>\n",
       "      <th>filter_used</th>\n",
       "      <th>visits</th>\n",
       "      <th>transactions</th>\n",
       "      <th>bus_day</th>\n",
       "      <th>days</th>\n",
       "    </tr>\n",
       "  </thead>\n",
       "  <tbody>\n",
       "    <tr>\n",
       "      <th>promo_activated</th>\n",
       "      <td>1.000000</td>\n",
       "      <td>0.008291</td>\n",
       "      <td>-0.109955</td>\n",
       "      <td>0.132774</td>\n",
       "      <td>-0.005632</td>\n",
       "      <td>0.027482</td>\n",
       "    </tr>\n",
       "    <tr>\n",
       "      <th>filter_used</th>\n",
       "      <td>0.008291</td>\n",
       "      <td>1.000000</td>\n",
       "      <td>-0.226926</td>\n",
       "      <td>-0.278234</td>\n",
       "      <td>-0.005195</td>\n",
       "      <td>-0.016014</td>\n",
       "    </tr>\n",
       "    <tr>\n",
       "      <th>visits</th>\n",
       "      <td>-0.109955</td>\n",
       "      <td>-0.226926</td>\n",
       "      <td>1.000000</td>\n",
       "      <td>0.615521</td>\n",
       "      <td>-0.023136</td>\n",
       "      <td>-0.035624</td>\n",
       "    </tr>\n",
       "    <tr>\n",
       "      <th>transactions</th>\n",
       "      <td>0.132774</td>\n",
       "      <td>-0.278234</td>\n",
       "      <td>0.615521</td>\n",
       "      <td>1.000000</td>\n",
       "      <td>-0.060944</td>\n",
       "      <td>-0.085240</td>\n",
       "    </tr>\n",
       "    <tr>\n",
       "      <th>bus_day</th>\n",
       "      <td>-0.005632</td>\n",
       "      <td>-0.005195</td>\n",
       "      <td>-0.023136</td>\n",
       "      <td>-0.060944</td>\n",
       "      <td>1.000000</td>\n",
       "      <td>0.007128</td>\n",
       "    </tr>\n",
       "    <tr>\n",
       "      <th>days</th>\n",
       "      <td>0.027482</td>\n",
       "      <td>-0.016014</td>\n",
       "      <td>-0.035624</td>\n",
       "      <td>-0.085240</td>\n",
       "      <td>0.007128</td>\n",
       "      <td>1.000000</td>\n",
       "    </tr>\n",
       "  </tbody>\n",
       "</table>\n",
       "</div>"
      ],
      "text/plain": [
       "                 promo_activated  filter_used    visits  transactions  \\\n",
       "promo_activated         1.000000     0.008291 -0.109955      0.132774   \n",
       "filter_used             0.008291     1.000000 -0.226926     -0.278234   \n",
       "visits                 -0.109955    -0.226926  1.000000      0.615521   \n",
       "transactions            0.132774    -0.278234  0.615521      1.000000   \n",
       "bus_day                -0.005632    -0.005195 -0.023136     -0.060944   \n",
       "days                    0.027482    -0.016014 -0.035624     -0.085240   \n",
       "\n",
       "                  bus_day      days  \n",
       "promo_activated -0.005632  0.027482  \n",
       "filter_used     -0.005195 -0.016014  \n",
       "visits          -0.023136 -0.035624  \n",
       "transactions    -0.060944 -0.085240  \n",
       "bus_day          1.000000  0.007128  \n",
       "days             0.007128  1.000000  "
      ]
     },
     "execution_count": 177,
     "metadata": {},
     "output_type": "execute_result"
    }
   ],
   "source": [
    "data = data.drop(['productClick','addToCart','pageviews','checkout'], axis=1)\n",
    "data.corr()"
   ]
  },
  {
   "cell_type": "code",
   "execution_count": 178,
   "metadata": {},
   "outputs": [],
   "source": [
    "#кодируем не числовые переменные\n",
    "data_col = data[cat_col]\n",
    "data_col_dummies = pd.get_dummies(data_col)"
   ]
  },
  {
   "cell_type": "code",
   "execution_count": 179,
   "metadata": {},
   "outputs": [],
   "source": [
    "#убираем категориальные переменные\n",
    "data_wo_cat = data.drop(cat_col, axis=1)"
   ]
  },
  {
   "cell_type": "code",
   "execution_count": 180,
   "metadata": {},
   "outputs": [
    {
     "data": {
      "text/html": [
       "<div>\n",
       "<style scoped>\n",
       "    .dataframe tbody tr th:only-of-type {\n",
       "        vertical-align: middle;\n",
       "    }\n",
       "\n",
       "    .dataframe tbody tr th {\n",
       "        vertical-align: top;\n",
       "    }\n",
       "\n",
       "    .dataframe thead th {\n",
       "        text-align: right;\n",
       "    }\n",
       "</style>\n",
       "<table border=\"1\" class=\"dataframe\">\n",
       "  <thead>\n",
       "    <tr style=\"text-align: right;\">\n",
       "      <th></th>\n",
       "      <th>0</th>\n",
       "      <th>1</th>\n",
       "      <th>2</th>\n",
       "      <th>3</th>\n",
       "      <th>4</th>\n",
       "      <th>5</th>\n",
       "      <th>6</th>\n",
       "      <th>7</th>\n",
       "      <th>8</th>\n",
       "      <th>9</th>\n",
       "      <th>...</th>\n",
       "      <th>12</th>\n",
       "      <th>13</th>\n",
       "      <th>14</th>\n",
       "      <th>15</th>\n",
       "      <th>16</th>\n",
       "      <th>17</th>\n",
       "      <th>18</th>\n",
       "      <th>19</th>\n",
       "      <th>20</th>\n",
       "      <th>21</th>\n",
       "    </tr>\n",
       "  </thead>\n",
       "  <tbody>\n",
       "    <tr>\n",
       "      <th>0</th>\n",
       "      <td>0</td>\n",
       "      <td>0</td>\n",
       "      <td>0</td>\n",
       "      <td>0</td>\n",
       "      <td>0</td>\n",
       "      <td>0</td>\n",
       "      <td>0</td>\n",
       "      <td>1</td>\n",
       "      <td>0</td>\n",
       "      <td>0</td>\n",
       "      <td>...</td>\n",
       "      <td>1</td>\n",
       "      <td>0</td>\n",
       "      <td>1</td>\n",
       "      <td>0</td>\n",
       "      <td>1</td>\n",
       "      <td>0</td>\n",
       "      <td>544</td>\n",
       "      <td>217</td>\n",
       "      <td>True</td>\n",
       "      <td>131.0</td>\n",
       "    </tr>\n",
       "    <tr>\n",
       "      <th>1</th>\n",
       "      <td>0</td>\n",
       "      <td>0</td>\n",
       "      <td>1</td>\n",
       "      <td>0</td>\n",
       "      <td>0</td>\n",
       "      <td>0</td>\n",
       "      <td>0</td>\n",
       "      <td>0</td>\n",
       "      <td>0</td>\n",
       "      <td>0</td>\n",
       "      <td>...</td>\n",
       "      <td>1</td>\n",
       "      <td>0</td>\n",
       "      <td>1</td>\n",
       "      <td>0</td>\n",
       "      <td>0</td>\n",
       "      <td>0</td>\n",
       "      <td>1450</td>\n",
       "      <td>100</td>\n",
       "      <td>True</td>\n",
       "      <td>131.0</td>\n",
       "    </tr>\n",
       "    <tr>\n",
       "      <th>2</th>\n",
       "      <td>0</td>\n",
       "      <td>0</td>\n",
       "      <td>1</td>\n",
       "      <td>0</td>\n",
       "      <td>0</td>\n",
       "      <td>0</td>\n",
       "      <td>0</td>\n",
       "      <td>0</td>\n",
       "      <td>0</td>\n",
       "      <td>0</td>\n",
       "      <td>...</td>\n",
       "      <td>1</td>\n",
       "      <td>1</td>\n",
       "      <td>0</td>\n",
       "      <td>0</td>\n",
       "      <td>0</td>\n",
       "      <td>0</td>\n",
       "      <td>854</td>\n",
       "      <td>71</td>\n",
       "      <td>True</td>\n",
       "      <td>131.0</td>\n",
       "    </tr>\n",
       "    <tr>\n",
       "      <th>3</th>\n",
       "      <td>0</td>\n",
       "      <td>0</td>\n",
       "      <td>0</td>\n",
       "      <td>0</td>\n",
       "      <td>0</td>\n",
       "      <td>0</td>\n",
       "      <td>0</td>\n",
       "      <td>1</td>\n",
       "      <td>0</td>\n",
       "      <td>0</td>\n",
       "      <td>...</td>\n",
       "      <td>1</td>\n",
       "      <td>1</td>\n",
       "      <td>0</td>\n",
       "      <td>0</td>\n",
       "      <td>0</td>\n",
       "      <td>0</td>\n",
       "      <td>1441</td>\n",
       "      <td>76</td>\n",
       "      <td>True</td>\n",
       "      <td>131.0</td>\n",
       "    </tr>\n",
       "    <tr>\n",
       "      <th>4</th>\n",
       "      <td>0</td>\n",
       "      <td>0</td>\n",
       "      <td>0</td>\n",
       "      <td>0</td>\n",
       "      <td>0</td>\n",
       "      <td>0</td>\n",
       "      <td>0</td>\n",
       "      <td>1</td>\n",
       "      <td>0</td>\n",
       "      <td>0</td>\n",
       "      <td>...</td>\n",
       "      <td>1</td>\n",
       "      <td>0</td>\n",
       "      <td>1</td>\n",
       "      <td>0</td>\n",
       "      <td>0</td>\n",
       "      <td>0</td>\n",
       "      <td>1842</td>\n",
       "      <td>150</td>\n",
       "      <td>True</td>\n",
       "      <td>131.0</td>\n",
       "    </tr>\n",
       "  </tbody>\n",
       "</table>\n",
       "<p>5 rows × 22 columns</p>\n",
       "</div>"
      ],
      "text/plain": [
       "  0  1  2  3  4  5  6  7  8  9   ... 12 13 14 15 16 17    18   19    20     21\n",
       "0  0  0  0  0  0  0  0  1  0  0  ...  1  0  1  0  1  0   544  217  True  131.0\n",
       "1  0  0  1  0  0  0  0  0  0  0  ...  1  0  1  0  0  0  1450  100  True  131.0\n",
       "2  0  0  1  0  0  0  0  0  0  0  ...  1  1  0  0  0  0   854   71  True  131.0\n",
       "3  0  0  0  0  0  0  0  1  0  0  ...  1  1  0  0  0  0  1441   76  True  131.0\n",
       "4  0  0  0  0  0  0  0  1  0  0  ...  1  0  1  0  0  0  1842  150  True  131.0\n",
       "\n",
       "[5 rows x 22 columns]"
      ]
     },
     "execution_count": 180,
     "metadata": {},
     "output_type": "execute_result"
    }
   ],
   "source": [
    "#сольем все в один набор\n",
    "concat = np.concatenate((data_col_dummies,data_wo_cat), axis=1)\n",
    "final_data = pd.DataFrame(concat)\n",
    "final_data.head()"
   ]
  },
  {
   "cell_type": "code",
   "execution_count": 181,
   "metadata": {},
   "outputs": [
    {
     "data": {
      "text/html": [
       "<div>\n",
       "<style scoped>\n",
       "    .dataframe tbody tr th:only-of-type {\n",
       "        vertical-align: middle;\n",
       "    }\n",
       "\n",
       "    .dataframe tbody tr th {\n",
       "        vertical-align: top;\n",
       "    }\n",
       "\n",
       "    .dataframe thead th {\n",
       "        text-align: right;\n",
       "    }\n",
       "</style>\n",
       "<table border=\"1\" class=\"dataframe\">\n",
       "  <thead>\n",
       "    <tr style=\"text-align: right;\">\n",
       "      <th></th>\n",
       "      <th>0</th>\n",
       "      <th>1</th>\n",
       "      <th>2</th>\n",
       "      <th>3</th>\n",
       "      <th>4</th>\n",
       "      <th>5</th>\n",
       "      <th>6</th>\n",
       "      <th>7</th>\n",
       "      <th>8</th>\n",
       "      <th>9</th>\n",
       "      <th>...</th>\n",
       "      <th>12</th>\n",
       "      <th>13</th>\n",
       "      <th>14</th>\n",
       "      <th>15</th>\n",
       "      <th>16</th>\n",
       "      <th>17</th>\n",
       "      <th>18</th>\n",
       "      <th>19</th>\n",
       "      <th>20</th>\n",
       "      <th>21</th>\n",
       "    </tr>\n",
       "  </thead>\n",
       "  <tbody>\n",
       "    <tr>\n",
       "      <th>0</th>\n",
       "      <td>-0.504451</td>\n",
       "      <td>-0.054029</td>\n",
       "      <td>-0.710259</td>\n",
       "      <td>-0.114804</td>\n",
       "      <td>-0.090245</td>\n",
       "      <td>-0.249826</td>\n",
       "      <td>-0.10308</td>\n",
       "      <td>1.342422</td>\n",
       "      <td>-0.080727</td>\n",
       "      <td>-0.072489</td>\n",
       "      <td>...</td>\n",
       "      <td>0.892254</td>\n",
       "      <td>-0.859740</td>\n",
       "      <td>1.048892</td>\n",
       "      <td>-0.331184</td>\n",
       "      <td>1.061211</td>\n",
       "      <td>-0.699874</td>\n",
       "      <td>0.990137</td>\n",
       "      <td>4.420485</td>\n",
       "      <td>0.641116</td>\n",
       "      <td>-0.094274</td>\n",
       "    </tr>\n",
       "    <tr>\n",
       "      <th>1</th>\n",
       "      <td>-0.504451</td>\n",
       "      <td>-0.054029</td>\n",
       "      <td>1.407937</td>\n",
       "      <td>-0.114804</td>\n",
       "      <td>-0.090245</td>\n",
       "      <td>-0.249826</td>\n",
       "      <td>-0.10308</td>\n",
       "      <td>-0.744922</td>\n",
       "      <td>-0.080727</td>\n",
       "      <td>-0.072489</td>\n",
       "      <td>...</td>\n",
       "      <td>0.892254</td>\n",
       "      <td>-0.859740</td>\n",
       "      <td>1.048892</td>\n",
       "      <td>-0.331184</td>\n",
       "      <td>-0.942320</td>\n",
       "      <td>-0.699874</td>\n",
       "      <td>3.219437</td>\n",
       "      <td>1.781924</td>\n",
       "      <td>0.641116</td>\n",
       "      <td>-0.094274</td>\n",
       "    </tr>\n",
       "    <tr>\n",
       "      <th>2</th>\n",
       "      <td>-0.504451</td>\n",
       "      <td>-0.054029</td>\n",
       "      <td>1.407937</td>\n",
       "      <td>-0.114804</td>\n",
       "      <td>-0.090245</td>\n",
       "      <td>-0.249826</td>\n",
       "      <td>-0.10308</td>\n",
       "      <td>-0.744922</td>\n",
       "      <td>-0.080727</td>\n",
       "      <td>-0.072489</td>\n",
       "      <td>...</td>\n",
       "      <td>0.892254</td>\n",
       "      <td>1.163142</td>\n",
       "      <td>-0.953387</td>\n",
       "      <td>-0.331184</td>\n",
       "      <td>-0.942320</td>\n",
       "      <td>-0.699874</td>\n",
       "      <td>1.752922</td>\n",
       "      <td>1.127922</td>\n",
       "      <td>0.641116</td>\n",
       "      <td>-0.094274</td>\n",
       "    </tr>\n",
       "    <tr>\n",
       "      <th>3</th>\n",
       "      <td>-0.504451</td>\n",
       "      <td>-0.054029</td>\n",
       "      <td>-0.710259</td>\n",
       "      <td>-0.114804</td>\n",
       "      <td>-0.090245</td>\n",
       "      <td>-0.249826</td>\n",
       "      <td>-0.10308</td>\n",
       "      <td>1.342422</td>\n",
       "      <td>-0.080727</td>\n",
       "      <td>-0.072489</td>\n",
       "      <td>...</td>\n",
       "      <td>0.892254</td>\n",
       "      <td>1.163142</td>\n",
       "      <td>-0.953387</td>\n",
       "      <td>-0.331184</td>\n",
       "      <td>-0.942320</td>\n",
       "      <td>-0.699874</td>\n",
       "      <td>3.197292</td>\n",
       "      <td>1.240681</td>\n",
       "      <td>0.641116</td>\n",
       "      <td>-0.094274</td>\n",
       "    </tr>\n",
       "    <tr>\n",
       "      <th>4</th>\n",
       "      <td>-0.504451</td>\n",
       "      <td>-0.054029</td>\n",
       "      <td>-0.710259</td>\n",
       "      <td>-0.114804</td>\n",
       "      <td>-0.090245</td>\n",
       "      <td>-0.249826</td>\n",
       "      <td>-0.10308</td>\n",
       "      <td>1.342422</td>\n",
       "      <td>-0.080727</td>\n",
       "      <td>-0.072489</td>\n",
       "      <td>...</td>\n",
       "      <td>0.892254</td>\n",
       "      <td>-0.859740</td>\n",
       "      <td>1.048892</td>\n",
       "      <td>-0.331184</td>\n",
       "      <td>-0.942320</td>\n",
       "      <td>-0.699874</td>\n",
       "      <td>4.183991</td>\n",
       "      <td>2.909514</td>\n",
       "      <td>0.641116</td>\n",
       "      <td>-0.094274</td>\n",
       "    </tr>\n",
       "  </tbody>\n",
       "</table>\n",
       "<p>5 rows × 22 columns</p>\n",
       "</div>"
      ],
      "text/plain": [
       "         0         1         2         3         4         5        6   \\\n",
       "0 -0.504451 -0.054029 -0.710259 -0.114804 -0.090245 -0.249826 -0.10308   \n",
       "1 -0.504451 -0.054029  1.407937 -0.114804 -0.090245 -0.249826 -0.10308   \n",
       "2 -0.504451 -0.054029  1.407937 -0.114804 -0.090245 -0.249826 -0.10308   \n",
       "3 -0.504451 -0.054029 -0.710259 -0.114804 -0.090245 -0.249826 -0.10308   \n",
       "4 -0.504451 -0.054029 -0.710259 -0.114804 -0.090245 -0.249826 -0.10308   \n",
       "\n",
       "         7         8         9   ...        12        13        14        15  \\\n",
       "0  1.342422 -0.080727 -0.072489  ...  0.892254 -0.859740  1.048892 -0.331184   \n",
       "1 -0.744922 -0.080727 -0.072489  ...  0.892254 -0.859740  1.048892 -0.331184   \n",
       "2 -0.744922 -0.080727 -0.072489  ...  0.892254  1.163142 -0.953387 -0.331184   \n",
       "3  1.342422 -0.080727 -0.072489  ...  0.892254  1.163142 -0.953387 -0.331184   \n",
       "4  1.342422 -0.080727 -0.072489  ...  0.892254 -0.859740  1.048892 -0.331184   \n",
       "\n",
       "         16        17        18        19        20        21  \n",
       "0  1.061211 -0.699874  0.990137  4.420485  0.641116 -0.094274  \n",
       "1 -0.942320 -0.699874  3.219437  1.781924  0.641116 -0.094274  \n",
       "2 -0.942320 -0.699874  1.752922  1.127922  0.641116 -0.094274  \n",
       "3 -0.942320 -0.699874  3.197292  1.240681  0.641116 -0.094274  \n",
       "4 -0.942320 -0.699874  4.183991  2.909514  0.641116 -0.094274  \n",
       "\n",
       "[5 rows x 22 columns]"
      ]
     },
     "execution_count": 181,
     "metadata": {},
     "output_type": "execute_result"
    }
   ],
   "source": [
    "#отмасштабируем признаки\n",
    "scaler = StandardScaler()\n",
    "scaler.fit(final_data)\n",
    "scaled_data = scaler.transform(final_data)\n",
    "scaled_data = pd.DataFrame(scaled_data)\n",
    "scaled_data.head()"
   ]
  },
  {
   "cell_type": "code",
   "execution_count": null,
   "metadata": {},
   "outputs": [],
   "source": []
  },
  {
   "cell_type": "markdown",
   "metadata": {},
   "source": [
    "#### Построение моделей"
   ]
  },
  {
   "cell_type": "code",
   "execution_count": 182,
   "metadata": {},
   "outputs": [],
   "source": [
    "#Линейная регрессия\n",
    "model = LinearRegression()\n",
    "X_train, X_test, y_train, y_test = train_test_split(scaled_data, target, test_size = 0.3, random_state = 42)"
   ]
  },
  {
   "cell_type": "code",
   "execution_count": 183,
   "metadata": {},
   "outputs": [],
   "source": [
    "model.fit(X_train, y_train)\n",
    "predictions = model.predict(X_test)"
   ]
  },
  {
   "cell_type": "code",
   "execution_count": 184,
   "metadata": {},
   "outputs": [
    {
     "data": {
      "text/plain": [
       "0.956512062988181"
      ]
     },
     "execution_count": 184,
     "metadata": {},
     "output_type": "execute_result"
    }
   ],
   "source": [
    "r2 = r2_score(y_test, predictions)\n",
    "r2"
   ]
  },
  {
   "cell_type": "code",
   "execution_count": 185,
   "metadata": {},
   "outputs": [
    {
     "data": {
      "text/plain": [
       "0.9565059292252687"
      ]
     },
     "execution_count": 185,
     "metadata": {},
     "output_type": "execute_result"
    }
   ],
   "source": [
    "#Гребневая регуляризация\n",
    "model = Ridge()\n",
    "model.fit(X_train, y_train)\n",
    "predictions = model.predict(X_test)\n",
    "r2 = r2_score(y_test, predictions)\n",
    "r2"
   ]
  },
  {
   "cell_type": "code",
   "execution_count": 186,
   "metadata": {},
   "outputs": [
    {
     "data": {
      "text/plain": [
       "0.956508524618261"
      ]
     },
     "execution_count": 186,
     "metadata": {},
     "output_type": "execute_result"
    }
   ],
   "source": [
    "#Лассо регуляризация \n",
    "model = Lasso()\n",
    "model.fit(X_train, y_train)\n",
    "predictions = model.predict(X_test)\n",
    "r2 = r2_score(y_test, predictions)\n",
    "r2"
   ]
  },
  {
   "cell_type": "markdown",
   "metadata": {},
   "source": [
    "Победила линейная регрессия"
   ]
  }
 ],
 "metadata": {
  "kernelspec": {
   "display_name": "Python 3",
   "language": "python",
   "name": "python3"
  },
  "language_info": {
   "codemirror_mode": {
    "name": "ipython",
    "version": 3
   },
   "file_extension": ".py",
   "mimetype": "text/x-python",
   "name": "python",
   "nbconvert_exporter": "python",
   "pygments_lexer": "ipython3",
   "version": "3.7.3"
  }
 },
 "nbformat": 4,
 "nbformat_minor": 2
}
